{
 "cells": [
  {
   "cell_type": "code",
   "execution_count": 1,
   "id": "f865dafa",
   "metadata": {},
   "outputs": [],
   "source": [
    "import numpy as np\n",
    "#set an initial price\n",
    "pc, pa, pl=[100],[100],[100]"
   ]
  },
  {
   "cell_type": "code",
   "execution_count": 2,
   "id": "e9b2d289",
   "metadata": {},
   "outputs": [],
   "source": [
    "#generate r~N(0, var)\n",
    "r = np.random.normal(0, 0.01, 1000)"
   ]
  },
  {
   "cell_type": "code",
   "execution_count": 3,
   "id": "0792de0d",
   "metadata": {},
   "outputs": [],
   "source": [
    "#simulation\n",
    "for i in range(len(r)):\n",
    "    pc.append(pc[0] + r[i]) \n",
    "    pa.append(pa[0] * (1 + r[i]))\n",
    "    pl.append(pl[0] * np.e**r[i])"
   ]
  },
  {
   "cell_type": "code",
   "execution_count": 4,
   "id": "34d0a7cc",
   "metadata": {},
   "outputs": [
    {
     "data": {
      "text/plain": [
       "100.00001489756146"
      ]
     },
     "execution_count": 4,
     "metadata": {},
     "output_type": "execute_result"
    }
   ],
   "source": [
    "np.mean(pc[1:])"
   ]
  },
  {
   "cell_type": "code",
   "execution_count": 5,
   "id": "58be591e",
   "metadata": {},
   "outputs": [
    {
     "data": {
      "text/plain": [
       "0.010061015077766045"
      ]
     },
     "execution_count": 5,
     "metadata": {},
     "output_type": "execute_result"
    }
   ],
   "source": [
    "np.std(pc[1:])"
   ]
  },
  {
   "cell_type": "code",
   "execution_count": 6,
   "id": "1008fa92",
   "metadata": {},
   "outputs": [
    {
     "data": {
      "text/plain": [
       "100.00148975614617"
      ]
     },
     "execution_count": 6,
     "metadata": {},
     "output_type": "execute_result"
    }
   ],
   "source": [
    "np.mean(pa[1:])"
   ]
  },
  {
   "cell_type": "code",
   "execution_count": 7,
   "id": "e147a2a2",
   "metadata": {},
   "outputs": [
    {
     "data": {
      "text/plain": [
       "1.0061015077766013"
      ]
     },
     "execution_count": 7,
     "metadata": {},
     "output_type": "execute_result"
    }
   ],
   "source": [
    "np.std(pa[1:])"
   ]
  },
  {
   "cell_type": "code",
   "execution_count": 8,
   "id": "5e780f20",
   "metadata": {},
   "outputs": [
    {
     "data": {
      "text/plain": [
       "100.00655108430765"
      ]
     },
     "execution_count": 8,
     "metadata": {},
     "output_type": "execute_result"
    }
   ],
   "source": [
    "np.mean(pl[1:])"
   ]
  },
  {
   "cell_type": "code",
   "execution_count": 9,
   "id": "c24f6e5c",
   "metadata": {},
   "outputs": [
    {
     "data": {
      "text/plain": [
       "1.0061660640831025"
      ]
     },
     "execution_count": 9,
     "metadata": {},
     "output_type": "execute_result"
    }
   ],
   "source": [
    "np.std(pl[1:])"
   ]
  }
 ],
 "metadata": {
  "kernelspec": {
   "display_name": "Python 3 (ipykernel)",
   "language": "python",
   "name": "python3"
  },
  "language_info": {
   "codemirror_mode": {
    "name": "ipython",
    "version": 3
   },
   "file_extension": ".py",
   "mimetype": "text/x-python",
   "name": "python",
   "nbconvert_exporter": "python",
   "pygments_lexer": "ipython3",
   "version": "3.9.7"
  }
 },
 "nbformat": 4,
 "nbformat_minor": 5
}