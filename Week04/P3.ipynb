{
 "cells": [
  {
   "cell_type": "code",
   "execution_count": 1,
   "id": "84981af6",
   "metadata": {},
   "outputs": [],
   "source": [
    "import pandas as pd\n",
    "import numpy as np\n",
    "from scipy.stats import norm\n",
    "import math"
   ]
  },
  {
   "cell_type": "code",
   "execution_count": 2,
   "id": "269ae8b0",
   "metadata": {},
   "outputs": [],
   "source": [
    "port = pd.read_csv(\"Portfolio.csv\")\n",
    "prices = pd.read_csv(\"DailyPrices.csv\")"
   ]
  },
  {
   "cell_type": "code",
   "execution_count": 3,
   "id": "c0113389",
   "metadata": {},
   "outputs": [],
   "source": [
    "portA = port.loc[port['Portfolio'] == \"A\"][[\"Stock\", \"Holding\"]]\n",
    "portA.Holding = portA.Holding / sum(portA.Holding)\n",
    "portB = port.loc[port['Portfolio'] == \"B\"][[\"Stock\", \"Holding\"]]\n",
    "portB.Holding = portB.Holding / sum(portB.Holding)\n",
    "portC = port.loc[port['Portfolio'] == \"C\"][[\"Stock\", \"Holding\"]]\n",
    "portC.Holding = portC.Holding / sum(portC.Holding)\n",
    "port = port[[\"Stock\", \"Holding\"]]\n",
    "port.Holding = port.Holding / sum(port.Holding)"
   ]
  },
  {
   "cell_type": "code",
   "execution_count": 4,
   "id": "f35c1643",
   "metadata": {},
   "outputs": [],
   "source": [
    "portA = portA.set_index('Stock')\n",
    "portB = portB.set_index('Stock')\n",
    "portC = portC.set_index('Stock')\n",
    "port = port.set_index('Stock')"
   ]
  },
  {
   "cell_type": "code",
   "execution_count": 5,
   "id": "556dc5c9",
   "metadata": {},
   "outputs": [],
   "source": [
    "pricesA = prices[list(portA.index)]\n",
    "pricesB = prices[list(portB.index)]\n",
    "pricesC = prices[list(portC.index)]\n",
    "prices = pd.concat([pricesA, pricesB, pricesC])"
   ]
  },
  {
   "cell_type": "code",
   "execution_count": 6,
   "id": "2622e65b",
   "metadata": {},
   "outputs": [],
   "source": [
    "returnsA = pricesA.pct_change()[1:]\n",
    "returnsB = pricesB.pct_change()[1:]\n",
    "returnsC = pricesC.pct_change()[1:]\n",
    "returns = prices.pct_change()[1:]"
   ]
  },
  {
   "cell_type": "code",
   "execution_count": 7,
   "id": "1ba181e8",
   "metadata": {},
   "outputs": [],
   "source": [
    "covA = returnsA.cov()\n",
    "covB = returnsB.cov()\n",
    "covC = returnsC.cov()\n",
    "cov = returns.cov()\n",
    "meanA = returnsA.mean()\n",
    "meanB = returnsB.mean()\n",
    "meanC = returnsC.mean()\n",
    "meanT = returns.mean()\n",
    "portA_mean = meanA.dot(np.array(portA.Holding))\n",
    "portB_mean = meanB.dot(np.array(portB.Holding))\n",
    "portC_mean = meanC.dot(np.array(portC.Holding))\n",
    "port_mean = meanT.dot(np.array(port.Holding))"
   ]
  },
  {
   "cell_type": "code",
   "execution_count": 8,
   "id": "7e30bbcc",
   "metadata": {},
   "outputs": [],
   "source": [
    "# Calculate portfolio standard deviation\n",
    "portA_stdev = np.sqrt(np.array(portA.Holding).T.dot(covA).dot(np.array(portA.Holding)))\n",
    "portB_stdev = np.sqrt(np.array(portB.Holding).T.dot(covB).dot(np.array(portB.Holding)))\n",
    "portC_stdev = np.sqrt(np.array(portC.Holding).T.dot(covC).dot(np.array(portC.Holding)))\n",
    "port_stdev = np.sqrt(np.array(port.Holding).T.dot(cov).dot(np.array(port.Holding)))"
   ]
  },
  {
   "cell_type": "code",
   "execution_count": 9,
   "id": "4538fe65",
   "metadata": {},
   "outputs": [],
   "source": [
    "# Select our confidence interval (I'll choose 95% here)\n",
    "conf_level1 = 0.05\n",
    "cutoffA = norm.ppf(conf_level1, portA_mean, portA_stdev)\n",
    "cutoffB = norm.ppf(conf_level1, portB_mean, portB_stdev)\n",
    "cutoffC = norm.ppf(conf_level1, portC_mean, portC_stdev)\n",
    "cutoffT = norm.ppf(conf_level1, port_mean, port_stdev)"
   ]
  },
  {
   "cell_type": "code",
   "execution_count": 10,
   "id": "7a791880",
   "metadata": {},
   "outputs": [],
   "source": [
    "varA = 1 - cutoffA\n",
    "varB = 1 - cutoffB\n",
    "varC = 1 - cutoffC\n",
    "varT = 1 - cutoffT"
   ]
  },
  {
   "cell_type": "code",
   "execution_count": 11,
   "id": "a2895807",
   "metadata": {},
   "outputs": [
    {
     "data": {
      "text/plain": [
       "1.013918537073878"
      ]
     },
     "execution_count": 11,
     "metadata": {},
     "output_type": "execute_result"
    }
   ],
   "source": [
    "varA"
   ]
  },
  {
   "cell_type": "code",
   "execution_count": 12,
   "id": "bc31f2f9",
   "metadata": {},
   "outputs": [
    {
     "data": {
      "text/plain": [
       "1.0144714479417678"
      ]
     },
     "execution_count": 12,
     "metadata": {},
     "output_type": "execute_result"
    }
   ],
   "source": [
    "varB"
   ]
  },
  {
   "cell_type": "code",
   "execution_count": 13,
   "id": "51a46050",
   "metadata": {},
   "outputs": [
    {
     "data": {
      "text/plain": [
       "1.0110980676399755"
      ]
     },
     "execution_count": 13,
     "metadata": {},
     "output_type": "execute_result"
    }
   ],
   "source": [
    "varC"
   ]
  },
  {
   "cell_type": "code",
   "execution_count": 14,
   "id": "7e00dda1",
   "metadata": {},
   "outputs": [
    {
     "data": {
      "text/plain": [
       "1.0053690699731563"
      ]
     },
     "execution_count": 14,
     "metadata": {},
     "output_type": "execute_result"
    }
   ],
   "source": [
    "varT"
   ]
  }
 ],
 "metadata": {
  "kernelspec": {
   "display_name": "Python 3 (ipykernel)",
   "language": "python",
   "name": "python3"
  },
  "language_info": {
   "codemirror_mode": {
    "name": "ipython",
    "version": 3
   },
   "file_extension": ".py",
   "mimetype": "text/x-python",
   "name": "python",
   "nbconvert_exporter": "python",
   "pygments_lexer": "ipython3",
   "version": "3.9.7"
  }
 },
 "nbformat": 4,
 "nbformat_minor": 5
}
