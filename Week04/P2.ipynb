{
 "cells": [
  {
   "cell_type": "code",
   "execution_count": 1,
   "id": "dd854504",
   "metadata": {},
   "outputs": [],
   "source": [
    "import pandas as pd\n",
    "import numpy as np\n",
    "from scipy.stats import t\n",
    "from scipy.optimize import minimize \n",
    "import yfinance as yf\n",
    "import seaborn as sns"
   ]
  },
  {
   "cell_type": "code",
   "execution_count": 2,
   "id": "fbd633c6",
   "metadata": {},
   "outputs": [],
   "source": [
    "def return_calculate(prices, method=\"DISCRETE\"):\n",
    "    dates = prices.Date[1:]\n",
    "    ar = prices[\"INTC\"].pct_change(1)[1:]\n",
    "    lr = np.log(1 + ar)\n",
    "    rtn = pd.DataFrame({\"Date\": dates, \"Arithmetic Return\": ar, \"Log Return\": lr})\n",
    "    if method == \"DISCRETE\":\n",
    "        return rtn[[\"Date\", \"Arithmetic Return\"]]\n",
    "    elif method == \"LOG\":\n",
    "        return rtn[[\"Date\", \"Log Return\"]]\n",
    "    else:\n",
    "        raise Exception(\"?\")"
   ]
  },
  {
   "cell_type": "code",
   "execution_count": 3,
   "id": "5352431b",
   "metadata": {},
   "outputs": [],
   "source": [
    "prices = pd.read_csv(\"DailyPrices.csv\")"
   ]
  },
  {
   "cell_type": "code",
   "execution_count": 4,
   "id": "ea21a476",
   "metadata": {},
   "outputs": [],
   "source": [
    "intc = return_calculate(prices)\n",
    "intc_mean = intc[\"Arithmetic Return\"].mean()"
   ]
  },
  {
   "cell_type": "code",
   "execution_count": 5,
   "id": "6f057f84",
   "metadata": {},
   "outputs": [],
   "source": [
    "intc_demean = intc[\"Arithmetic Return\"] - intc_mean"
   ]
  },
  {
   "cell_type": "code",
   "execution_count": 6,
   "id": "e27a09b1",
   "metadata": {},
   "outputs": [],
   "source": [
    "# normal dist from here\n",
    "std = np.std(intc_demean)\n",
    "var_n = 1.65 * std"
   ]
  },
  {
   "cell_type": "code",
   "execution_count": null,
   "id": "36b3be82",
   "metadata": {},
   "outputs": [],
   "source": []
  },
  {
   "cell_type": "code",
   "execution_count": 7,
   "id": "5b28c119",
   "metadata": {},
   "outputs": [],
   "source": [
    "# exp normal dist\n",
    "λ = 0.94\n",
    "weights = [(1-λ)*λ**(i-1) for i in range(1, len(intc_demean.index)+1) ]\n",
    "weights = [weight/sum(weights) for weight in weights]\n",
    "variance = sum(weights * intc_demean**2)\n",
    "std_exp = variance**(1/2)\n",
    "var_exp = 1.65 * std_exp"
   ]
  },
  {
   "cell_type": "code",
   "execution_count": 8,
   "id": "efdb611c",
   "metadata": {},
   "outputs": [
    {
     "data": {
      "text/plain": [
       "0.05072918921533632"
      ]
     },
     "execution_count": 8,
     "metadata": {},
     "output_type": "execute_result"
    }
   ],
   "source": [
    "var_exp"
   ]
  },
  {
   "cell_type": "code",
   "execution_count": 9,
   "id": "9890667f",
   "metadata": {},
   "outputs": [],
   "source": [
    "# MLE\n",
    "def MLE_t(parameters):\n",
    "    # extract parameters\n",
    "    df, std = parameters\n",
    "    # Calculate the log-likelihood for normal distribution\n",
    "    LL = np.sum(t.logpdf(df, std))\n",
    "#     mean, var, skew, kurt = t.stats(df, moments='mvsk')\n",
    "\n",
    "    # Calculate the negative log-likelihood\n",
    "    neg_LL = -1*LL\n",
    "    return neg_LL \n"
   ]
  },
  {
   "cell_type": "code",
   "execution_count": 10,
   "id": "3cd13bdd",
   "metadata": {},
   "outputs": [
    {
     "data": {
      "text/plain": [
       "      fun: 0.9199654608522359\n",
       " hess_inv: <2x2 LbfgsInvHessProduct with dtype=float64>\n",
       "      jac: array([-3.22395444e-03,  2.88657757e-06])\n",
       "  message: 'CONVERGENCE: REL_REDUCTION_OF_F_<=_FACTR*EPSMCH'\n",
       "     nfev: 231\n",
       "      nit: 41\n",
       "     njev: 77\n",
       "   status: 0\n",
       "  success: True\n",
       "        x: array([-3.21122772e-03,  2.44677427e+02])"
      ]
     },
     "execution_count": 10,
     "metadata": {},
     "output_type": "execute_result"
    }
   ],
   "source": [
    "mle_model = minimize(MLE_t, np.array([59, std]), method='L-BFGS-B')\n",
    "mle_model "
   ]
  },
  {
   "cell_type": "code",
   "execution_count": 11,
   "id": "0a67f697",
   "metadata": {},
   "outputs": [],
   "source": [
    "# cited from: https://github.com/BSIC/VaR/blob/master/VaR.py\n",
    "# Historical var\n",
    "def VaR(Returns, Confidence_Interval = 0.95 , Period_Interval = None ,\n",
    "        Series = False ,removeNa = True):    \n",
    "    if removeNa==True: Returns = Returns[pd.notnull(Returns)]\n",
    "\n",
    "    if (Series == True and Period_Interval == None):\n",
    "        Period_Interval = 100\n",
    "    elif Period_Interval == None: \n",
    "        Period_Interval = len(Returns)\n",
    "        \n",
    "    if Series == False:\n",
    "        Data = Returns[-Period_Interval:]\n",
    "        Value_at_Risk = -np.percentile(Data,1-Confidence_Interval)\n",
    "    if Series == True:\n",
    "        Value_at_Risk = pd.Series(index=Returns.index, name = 'HSVaR')\n",
    "        for i in range(0,len(Returns)-Period_Interval):\n",
    "            if i == 0: Data = Returns[-(Period_Interval):]\n",
    "            else: Data = Returns[-(Period_Interval+i):-i]\n",
    "            Value_at_Risk[-i-1] = -np.percentile(Data,1-Confidence_Interval)\n",
    "\n",
    "   \n",
    "    return(Value_at_Risk)\n"
   ]
  },
  {
   "cell_type": "code",
   "execution_count": 12,
   "id": "d5801f49",
   "metadata": {},
   "outputs": [
    {
     "data": {
      "text/plain": [
       "0.11450355388382355"
      ]
     },
     "execution_count": 12,
     "metadata": {},
     "output_type": "execute_result"
    }
   ],
   "source": [
    "VaR(intc_demean)"
   ]
  },
  {
   "cell_type": "code",
   "execution_count": 13,
   "id": "49ba6afb",
   "metadata": {},
   "outputs": [],
   "source": [
    "# yahoo finance\n",
    "hist = yf.Ticker(\"INTC\").history(start=\"2022-01-14\", period=\"max\").Close"
   ]
  },
  {
   "cell_type": "code",
   "execution_count": 14,
   "id": "a67afc73",
   "metadata": {},
   "outputs": [],
   "source": [
    "hist_return = hist.pct_change(1)[1:]"
   ]
  },
  {
   "cell_type": "code",
   "execution_count": 15,
   "id": "3addce29",
   "metadata": {},
   "outputs": [
    {
     "data": {
      "text/plain": [
       "<AxesSubplot:xlabel='Close', ylabel='Density'>"
      ]
     },
     "execution_count": 15,
     "metadata": {},
     "output_type": "execute_result"
    },
    {
     "data": {
      "image/png": "[encoded data removed]",
      "text/plain": [
       "<Figure size 432x288 with 1 Axes>"
      ]
     },
     "metadata": {
      "needs_background": "light"
     },
     "output_type": "display_data"
    }
   ],
   "source": [
    "sns.kdeplot(hist_return)"
   ]
  }
 ],
 "metadata": {
  "kernelspec": {
   "display_name": "Python 3 (ipykernel)",
   "language": "python",
   "name": "python3"
  },
  "language_info": {
   "codemirror_mode": {
    "name": "ipython",
    "version": 3
   },
   "file_extension": ".py",
   "mimetype": "text/x-python",
   "name": "python",
   "nbconvert_exporter": "python",
   "pygments_lexer": "ipython3",
   "version": "3.9.7"
  }
 },
 "nbformat": 4,
 "nbformat_minor": 5
}