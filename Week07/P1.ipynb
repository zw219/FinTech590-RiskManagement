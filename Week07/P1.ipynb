{
 "cells": [
  {
   "cell_type": "code",
   "execution_count": 1,
   "id": "d2196ae9",
   "metadata": {},
   "outputs": [
    {
     "data": {
      "text/plain": [
       "{'delta': 0.5134924341675868,\n",
       " 'gamma': 0.04018251491006158,\n",
       " 'theta': -0.06049658790492133,\n",
       " 'vega': 0.1978135668935456,\n",
       " 'rho': 0.07300692770779327}"
      ]
     },
     "execution_count": 1,
     "metadata": {},
     "output_type": "execute_result"
    }
   ],
   "source": [
    "import opstrat as op\n",
    "import numpy as np\n",
    "#Declare parameters\n",
    "K=165    #spot price\n",
    "st=165   #current stock price\n",
    "r=0.25     #4% risk free rate\n",
    "t=33     #time to expiry, 30 days \n",
    "v=20     #volatility \n",
    "n=2\n",
    "div = 0.88\n",
    "coupon = 0.53\n",
    "bsm=op.black_scholes(K=K, St=st, r=r, t=t, v=v, type='c')\n",
    "bsm['greeks']"
   ]
  },
  {
   "cell_type": "code",
   "execution_count": 2,
   "id": "4e90434f",
   "metadata": {},
   "outputs": [
    {
     "data": {
      "text/plain": [
       "{'delta': -0.4865075658324132,\n",
       " 'gamma': 0.04018251491006158,\n",
       " 'theta': -0.05936670633167526,\n",
       " 'vega': 0.1978135668935456,\n",
       " 'rho': -0.07613743996068799}"
      ]
     },
     "execution_count": 2,
     "metadata": {},
     "output_type": "execute_result"
    }
   ],
   "source": [
    "bsm=op.black_scholes(K=K, St=st, r=r, t=t, v=v, type='p')\n",
    "bsm['greeks']"
   ]
  },
  {
   "cell_type": "code",
   "execution_count": 3,
   "id": "9c3b815c",
   "metadata": {},
   "outputs": [],
   "source": [
    "dt = t/365/n\n",
    "u = np.e**(v/100*(dt**0.5))\n",
    "d = np.e**((-v/100)*(dt**0.5))\n",
    "p = (np.e**((r-coupon)/100*dt) - d)/(u-d)\n",
    "temp11 = max(0, (st*u-div)*u - st)\n",
    "temp12 = max(0, (st*u-div)*d - st)\n",
    "temp21 = max(0, (st*d-div)*u - st)\n",
    "temp22 = max(0, (st*d-div)*d - st)\n",
    "temp1 = (np.e**(-r/100 * dt))*(temp11 *p + temp12*(1-p))\n",
    "temp2 = (np.e**(-r/100 * dt))*(temp21 *p + temp22*(1-p))\n",
    "p1 = max(st*u-st, temp1)\n",
    "p2 = max(st*d-st, temp2)\n",
    "callp = np.e**(-r*dt)*(temp1 *p + temp2*(1-p))"
   ]
  },
  {
   "cell_type": "code",
   "execution_count": 4,
   "id": "79b39d2c",
   "metadata": {},
   "outputs": [],
   "source": [
    "temp11 = max(0,  st - (st*u-div)*u)\n",
    "temp12 = max(0, st - (st*u-div)*d )\n",
    "temp21 = max(0, st-(st*d-div)*u)\n",
    "temp22 = max(0, st-(st*d-div)*d)\n",
    "temp1 = (np.e**(-r/100 * dt))*(temp11 *p + temp12*(1-p))\n",
    "temp2 = (np.e**(-r/100 * dt))*(temp21 *p + temp22*(1-p))\n",
    "p1 = max(-st*u+st, temp1)\n",
    "p2 = max(-st*d+st, temp2)\n",
    "putp = np.e**(-r*dt)*(temp1 *p + temp2*(1-p))\n"
   ]
  },
  {
   "cell_type": "code",
   "execution_count": 5,
   "id": "a252a603",
   "metadata": {},
   "outputs": [
    {
     "data": {
      "text/plain": [
       "(3.230683995715243, 4.141876902240273)"
      ]
     },
     "execution_count": 5,
     "metadata": {},
     "output_type": "execute_result"
    }
   ],
   "source": [
    "callp, putp"
   ]
  }
 ],
 "metadata": {
  "kernelspec": {
   "display_name": "Python 3 (ipykernel)",
   "language": "python",
   "name": "python3"
  },
  "language_info": {
   "codemirror_mode": {
    "name": "ipython",
    "version": 3
   },
   "file_extension": ".py",
   "mimetype": "text/x-python",
   "name": "python",
   "nbconvert_exporter": "python",
   "pygments_lexer": "ipython3",
   "version": "3.10.2"
  }
 },
 "nbformat": 4,
 "nbformat_minor": 5
}
