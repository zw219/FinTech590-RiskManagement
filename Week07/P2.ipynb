{
 "cells": [
  {
   "cell_type": "code",
   "execution_count": 1,
   "id": "8dbe3c86",
   "metadata": {},
   "outputs": [],
   "source": [
    "import numpy as np\n",
    "from scipy.stats import norm\n",
    "import pandas as pd\n",
    "import random\n",
    "import matplotlib.pyplot as plt\n",
    "import collections\n",
    "from scipy.optimize import fsolve"
   ]
  },
  {
   "cell_type": "code",
   "execution_count": 2,
   "id": "362f612c",
   "metadata": {},
   "outputs": [],
   "source": [
    "current = pd.to_datetime(\"2022-02-25\")\n",
    "expire = pd.to_datetime(\"2022-03-18\")\n",
    "r = 0.0025\n",
    "coupon = 0.0053\n",
    "b = r - coupon\n",
    "days = (expire - current).days\n",
    "t = days / 365\n",
    "s = 164.85\n",
    "underlyings = [i for i in range(150, 181)]\n",
    "x = 0\n",
    "put = 0\n",
    "call = 0"
   ]
  },
  {
   "cell_type": "code",
   "execution_count": 3,
   "id": "5562a2bd",
   "metadata": {},
   "outputs": [],
   "source": [
    "returns = pd.read_csv(\"./DailyReturn.csv\").AAPL\n",
    "mu_norm, std_norm = norm.fit(returns)\n",
    "returns = returns-mu_norm\n",
    "simulate = np.random.normal(mu_norm, std_norm, 10)\n",
    "prices = [164.85]\n",
    "for re in simulate:\n",
    "    prices.append(prices[-1]/(1+re))\n",
    "prices = np.array(prices[1:][::-1])\n",
    "prices -= prices.mean()"
   ]
  },
  {
   "cell_type": "code",
   "execution_count": 4,
   "id": "6230ad62",
   "metadata": {},
   "outputs": [
    {
     "data": {
      "text/plain": [
       "array([-2.61877243, -2.39328826, -1.42377582, -2.05509383, -3.5078734 ,\n",
       "       -0.76281637,  1.40812008, -0.33784733,  4.18658655,  7.50476083])"
      ]
     },
     "execution_count": 4,
     "metadata": {},
     "output_type": "execute_result"
    }
   ],
   "source": []
  },
  {
   "cell_type": "code",
   "execution_count": null,
   "id": "49ea9868",
   "metadata": {},
   "outputs": [],
   "source": []
  }
 ],
 "metadata": {
  "kernelspec": {
   "display_name": "Python 3 (ipykernel)",
   "language": "python",
   "name": "python3"
  },
  "language_info": {
   "codemirror_mode": {
    "name": "ipython",
    "version": 3
   },
   "file_extension": ".py",
   "mimetype": "text/x-python",
   "name": "python",
   "nbconvert_exporter": "python",
   "pygments_lexer": "ipython3",
   "version": "3.10.2"
  }
 },
 "nbformat": 4,
 "nbformat_minor": 5
}
