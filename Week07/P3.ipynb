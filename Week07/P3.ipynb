{
 "cells": [
  {
   "cell_type": "code",
   "execution_count": 1,
   "id": "3102e15c",
   "metadata": {},
   "outputs": [],
   "source": [
    "import numpy as np\n",
    "from scipy.stats import norm\n",
    "import pandas as pd\n",
    "import statsmodels.api as sm\n",
    "from scipy.optimize import minimize\n",
    "from numpy.random import rand\n",
    "f_f = pd.read_csv(\"./F-F_Research_Data_Factors_daily.CSV\")\n",
    "rtn = pd.read_csv(\"./DailyReturn.csv\")\n"
   ]
  },
  {
   "cell_type": "code",
   "execution_count": 2,
   "id": "96adf248",
   "metadata": {},
   "outputs": [
    {
     "data": {
      "text/html": [
       "<div>\n",
       "<style scoped>\n",
       "    .dataframe tbody tr th:only-of-type {\n",
       "        vertical-align: middle;\n",
       "    }\n",
       "\n",
       "    .dataframe tbody tr th {\n",
       "        vertical-align: top;\n",
       "    }\n",
       "\n",
       "    .dataframe thead th {\n",
       "        text-align: right;\n",
       "    }\n",
       "</style>\n",
       "<table border=\"1\" class=\"dataframe\">\n",
       "  <thead>\n",
       "    <tr style=\"text-align: right;\">\n",
       "      <th></th>\n",
       "      <th>AAPL</th>\n",
       "      <th>FB</th>\n",
       "      <th>UNH</th>\n",
       "      <th>MA</th>\n",
       "      <th>MSFT</th>\n",
       "      <th>NVDA</th>\n",
       "      <th>HD</th>\n",
       "      <th>PFE</th>\n",
       "      <th>AMZN</th>\n",
       "      <th>BRK-B</th>\n",
       "      <th>PG</th>\n",
       "      <th>XOM</th>\n",
       "      <th>TSLA</th>\n",
       "      <th>JPM</th>\n",
       "      <th>V</th>\n",
       "      <th>DIS</th>\n",
       "      <th>GOOGL</th>\n",
       "      <th>JNJ</th>\n",
       "      <th>BAC</th>\n",
       "      <th>CSCO</th>\n",
       "    </tr>\n",
       "  </thead>\n",
       "  <tbody>\n",
       "    <tr>\n",
       "      <th>0</th>\n",
       "      <td>0.012163</td>\n",
       "      <td>0.012056</td>\n",
       "      <td>0.012147</td>\n",
       "      <td>0.012016</td>\n",
       "      <td>0.012136</td>\n",
       "      <td>0.011982</td>\n",
       "      <td>0.01206</td>\n",
       "      <td>0.012236</td>\n",
       "      <td>0.012054</td>\n",
       "      <td>0.012146</td>\n",
       "      <td>0.01216</td>\n",
       "      <td>0.012022</td>\n",
       "      <td>0.012061</td>\n",
       "      <td>0.012072</td>\n",
       "      <td>0.01205</td>\n",
       "      <td>0.01212</td>\n",
       "      <td>0.01209</td>\n",
       "      <td>0.012162</td>\n",
       "      <td>0.012051</td>\n",
       "      <td>0.012196</td>\n",
       "    </tr>\n",
       "  </tbody>\n",
       "</table>\n",
       "</div>"
      ],
      "text/plain": [
       "       AAPL        FB       UNH        MA      MSFT      NVDA       HD  \\\n",
       "0  0.012163  0.012056  0.012147  0.012016  0.012136  0.011982  0.01206   \n",
       "\n",
       "        PFE      AMZN     BRK-B       PG       XOM      TSLA       JPM  \\\n",
       "0  0.012236  0.012054  0.012146  0.01216  0.012022  0.012061  0.012072   \n",
       "\n",
       "         V      DIS    GOOGL       JNJ       BAC      CSCO  \n",
       "0  0.01205  0.01212  0.01209  0.012162  0.012051  0.012196  "
      ]
     },
     "execution_count": 2,
     "metadata": {},
     "output_type": "execute_result"
    }
   ],
   "source": [
    "#OLS calculate beta\n",
    "stocks= ['AAPL', 'FB', 'UNH', 'MA', 'MSFT', 'NVDA', 'HD', 'PFE', 'AMZN', 'BRK-B', 'PG', 'XOM', 'TSLA', 'JPM', 'V', 'DIS', 'GOOGL', 'JNJ', 'BAC', 'CSCO']\n",
    "rtn = rtn[stocks]\n",
    "cov = rtn.cov()\n",
    "\n",
    "\n",
    "def beta_calc(ff, d_rtn, param, rf, rs):\n",
    "    x = np.array(ff[param].tolist())[-60:]\n",
    "    y1 = np.array(ff[rf].tolist())[-60:]\n",
    "    y2 = np.array(d_rtn[rs].tolist())\n",
    "    y = y2 - y1\n",
    "    # adding the constant term\n",
    "    x = sm.add_constant(x)\n",
    "\n",
    "    result = sm.OLS(y, x).fit()\n",
    "    return result.params[1]\n",
    "stock_rtn = pd.DataFrame(columns = stocks)\n",
    "row = []\n",
    "for stock in stocks:\n",
    "    beta_mkt = beta_calc(f_f, rtn, \"Mkt-RF\", \"RF\", stock)\n",
    "    beta_smb = beta_calc(f_f, rtn, \"SMB\", \"RF\", stock)\n",
    "    beta_hml = beta_calc(f_f, rtn, \"HML\", \"RF\", stock)\n",
    "    exp_rs = f_f[\"RF\"].mean() + beta_mkt*(f_f[\"Mkt-RF\"].mean()) + beta_smb*(f_f[\"SMB\"].mean()) + beta_hml*(f_f[\"HML\"].mean())\n",
    "    row.append(exp_rs)\n",
    "stock_rtn.loc[len(stock_rtn.index)] = row\n",
    "stock_rtn"
   ]
  },
  {
   "cell_type": "code",
   "execution_count": 3,
   "id": "dbd2f50b",
   "metadata": {},
   "outputs": [],
   "source": [
    "stock_rtn = np.array(stock_rtn)"
   ]
  },
  {
   "cell_type": "code",
   "execution_count": 4,
   "id": "a9c2f035",
   "metadata": {},
   "outputs": [],
   "source": [
    "#construct covariance matrix"
   ]
  },
  {
   "cell_type": "code",
   "execution_count": 5,
   "id": "eabdcf69",
   "metadata": {},
   "outputs": [],
   "source": [
    "def objective(w):\n",
    "    global cov\n",
    "    return np.matmul(np.matmul(w,np.array(cov)),np.transpose(w))"
   ]
  },
  {
   "cell_type": "code",
   "execution_count": 6,
   "id": "f5347e1f",
   "metadata": {},
   "outputs": [
    {
     "name": "stderr",
     "output_type": "stream",
     "text": [
      "/Users/staceywzy/PycharmProjects/FinTech590-RiskManagement/venv/lib/python3.10/site-packages/scipy/optimize/_hessian_update_strategy.py:182: UserWarning: delta_grad == 0.0. Check if the approximated function is linear. If the function is linear better results can be obtained by defining the Hessian as zero instead of using quasi-Newton approximations.\n",
      "  warn('delta_grad == 0.0. Check if the approximated '\n",
      "/Users/staceywzy/PycharmProjects/FinTech590-RiskManagement/venv/lib/python3.10/site-packages/scipy/optimize/_trustregion_constr/projections.py:181: UserWarning: Singular Jacobian matrix. Using SVD decomposition to perform the factorizations.\n",
      "  warn('Singular Jacobian matrix. Using SVD decomposition to ' +\n"
     ]
    }
   ],
   "source": [
    "\n",
    "cons = ({'type':'eq', 'fun': lambda w: sum(w) - 1},\n",
    "        {'type':'eq', 'fun': lambda w: (w*stock_rtn).sum() - 0.04}\n",
    "        )\n",
    "# perform the l-bfgs-b algorithm search\n",
    "w = [0.05]*20\n",
    "bounds = ((0, 1) for i in range(0,20))\n",
    "result = minimize(objective, w, method = \"trust-constr\", bounds = bounds, constraints = cons)\n",
    "# summarize the result\n",
    "# print(result)\n"
   ]
  },
  {
   "cell_type": "code",
   "execution_count": 7,
   "id": "e700e264",
   "metadata": {},
   "outputs": [
    {
     "data": {
      "text/plain": [
       "array([ 0.75618169, -0.24243637,  0.75618129, -0.24243734, -0.24243439,\n",
       "       -0.24243817, -0.24243628,  0.75618349, -0.24243641, -0.14073608,\n",
       "        0.7561816 , -0.24243721, -0.24243625, -0.24243598, -0.24243651,\n",
       "       -0.2424348 , -0.24243555,  0.75618164, -0.24243648,  0.75618248])"
      ]
     },
     "execution_count": 7,
     "metadata": {},
     "output_type": "execute_result"
    }
   ],
   "source": [
    "result.x"
   ]
  },
  {
   "cell_type": "code",
   "execution_count": null,
   "id": "b856aaeb",
   "metadata": {},
   "outputs": [],
   "source": []
  }
 ],
 "metadata": {
  "kernelspec": {
   "display_name": "Python 3 (ipykernel)",
   "language": "python",
   "name": "python3"
  },
  "language_info": {
   "codemirror_mode": {
    "name": "ipython",
    "version": 3
   },
   "file_extension": ".py",
   "mimetype": "text/x-python",
   "name": "python",
   "nbconvert_exporter": "python",
   "pygments_lexer": "ipython3",
   "version": "3.10.2"
  }
 },
 "nbformat": 4,
 "nbformat_minor": 5
}
