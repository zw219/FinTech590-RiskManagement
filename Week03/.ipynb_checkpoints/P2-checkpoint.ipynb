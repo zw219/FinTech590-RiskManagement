{
 "cells": [
  {
   "cell_type": "code",
   "execution_count": 1,
   "id": "f7c72202",
   "metadata": {},
   "outputs": [],
   "source": [
    "import numpy as np\n",
    "import pandas as pd\n",
    "from math import *\n",
    "from numpy import diag, inf\n",
    "from numpy import copy, dot\n",
    "from numpy.linalg import norm\n",
    "from numpy import linalg as LA\n",
    "from datetime import datetime"
   ]
  },
  {
   "cell_type": "code",
   "execution_count": 2,
   "id": "36712105",
   "metadata": {},
   "outputs": [],
   "source": [
    "def chol_psd(root, sigma, n):\n",
    "    root = [ [ 0 for i in range(n) ] for j in range(n) ]\n",
    "    for j in range(n):\n",
    "        s = 0.0\n",
    "        if j > 0:\n",
    "            s = sum([root[j][i]**2 for i in range(j)])\n",
    "        temp = sigma[j][j] - s\n",
    "        if temp <= 0:\n",
    "            temp = 0.0\n",
    "        root[j][j] = sqrt(temp)\n",
    "        if 0.0 == root[j][j]:\n",
    "            for i in range(j +1, n ):\n",
    "                root[j][i] = 0.0\n",
    "            ir = 1.0 / root[j][j]\n",
    "            for i in range(j+1, n): \n",
    "                # may be wrong \n",
    "                s = sum([root[i][k] * root[j][i] for k in range(j)])\n",
    "                root[i][j] = (sigma[i][j] - s) * ir\n",
    "    return root"
   ]
  },
  {
   "cell_type": "code",
   "execution_count": 3,
   "id": "c02c6182",
   "metadata": {},
   "outputs": [],
   "source": [
    "# https://stackify.dev/670594-how-can-i-calculate-the-nearest-positive-semi-definite-matrix\n",
    "def nearPSD(A, n, epsilon=0.0):\n",
    "    eigval, eigvec = np.linalg.eig(A)\n",
    "    val = np.matrix(np.maximum(eigval,epsilon))\n",
    "    vec = np.matrix(eigvec)\n",
    "    T = 1/(np.multiply(vec,vec) * val.T)\n",
    "    T = np.matrix(np.sqrt(np.diag(np.array(T).reshape((n)) )))\n",
    "    B = T * vec * np.diag(np.array(np.sqrt(val)).reshape((n)))\n",
    "    out = B*B.T\n",
    "    return np.asarray(out)"
   ]
  },
  {
   "cell_type": "code",
   "execution_count": 4,
   "id": "aba44a79",
   "metadata": {},
   "outputs": [],
   "source": [
    "# https://github.com/mikecroucher/nearest_correlation/blob/master/nearest_correlation.py\n",
    "def nearcorr(A, tol=[], flag=0, max_iterations=100, n_pos_eig=0,\n",
    "             weights=None, verbose=False,\n",
    "             except_on_too_many_iterations=True):\n",
    "\n",
    "    if (isinstance(A, ValueError)):\n",
    "        ds = copy(A.ds)\n",
    "        A = copy(A.matrix)\n",
    "    else:\n",
    "        ds = np.zeros(np.shape(A))\n",
    "\n",
    "    eps = np.spacing(1)\n",
    "    if not np.all((np.transpose(A) == A)):\n",
    "        raise ValueError('Input Matrix is not symmetric')\n",
    "    if not tol:\n",
    "        tol = eps * np.shape(A)[0] * np.array([1, 1])\n",
    "    if weights is None:\n",
    "        weights = np.ones(np.shape(A)[0])\n",
    "    X = copy(A)\n",
    "    Y = copy(A)\n",
    "    rel_diffY = inf\n",
    "    rel_diffX = inf\n",
    "    rel_diffXY = inf\n",
    "\n",
    "    Whalf = np.sqrt(np.outer(weights, weights))\n",
    "\n",
    "    iteration = 0\n",
    "    while max(rel_diffX, rel_diffY, rel_diffXY) > tol[0]:\n",
    "        iteration += 1\n",
    "        if iteration > max_iterations:\n",
    "            if except_on_too_many_iterations:\n",
    "                if max_iterations == 1:\n",
    "                    message = \"No solution found in \"\\\n",
    "                              + str(max_iterations) + \" iteration\"\n",
    "                else:\n",
    "                    message = \"No solution found in \"\\\n",
    "                              + str(max_iterations) + \" iterations\"\n",
    "                raise ValueError(message, X, iteration, ds)\n",
    "            else:\n",
    "\n",
    "                return X\n",
    "\n",
    "        Xold = copy(X)\n",
    "        R = X - ds\n",
    "        R_wtd = Whalf*R\n",
    "        if flag == 0:\n",
    "            X = proj_spd(R_wtd)\n",
    "        elif flag == 1:\n",
    "            raise ValueError(\"Setting 'flag' to 1 is currently\\\n",
    "                                 not implemented.\")\n",
    "        X = X / Whalf\n",
    "        ds = X - R\n",
    "        Yold = copy(Y)\n",
    "        Y = copy(X)\n",
    "        np.fill_diagonal(Y, 1)\n",
    "        normY = norm(Y, 'fro')\n",
    "        rel_diffX = norm(X - Xold, 'fro') / norm(X, 'fro')\n",
    "        rel_diffY = norm(Y - Yold, 'fro') / normY\n",
    "        rel_diffXY = norm(Y - X, 'fro') / normY\n",
    "\n",
    "        X = copy(Y)\n",
    "\n",
    "    return X\n",
    "\n",
    "def proj_spd(A):\n",
    "    d, v = np.linalg.eigh(A)\n",
    "    A = (v * np.maximum(d, 0)).dot(v.T)\n",
    "    A = (A + A.T) / 2\n",
    "    return(A)"
   ]
  },
  {
   "cell_type": "code",
   "execution_count": 5,
   "id": "30706305",
   "metadata": {},
   "outputs": [],
   "source": [
    "n = 5\n",
    "sigma = [ [ 0.9 for i in range(n) ] for j in range(n) ]\n",
    "for i in range(n):\n",
    "    sigma[i][i] = 1.0\n",
    "root = [ [ np.nan for i in range(n) ] for j in range(n) ]\n",
    "sigma[0][1] = 0.7357\n",
    "sigma[1][0] = 0.7357"
   ]
  },
  {
   "cell_type": "code",
   "execution_count": 6,
   "id": "5079f947",
   "metadata": {},
   "outputs": [
    {
     "name": "stdout",
     "output_type": "stream",
     "text": [
      "Run-time for nearPSD: 0:00:00.001014\n",
      "Run-time for Higham: 0:00:00.001809\n"
     ]
    }
   ],
   "source": [
    "start = datetime.now()\n",
    "sigma1 = nearPSD(np.array(sigma),n, epsilon=0)\n",
    "print(\"Run-time for nearPSD: \" + str(datetime.now()-start))\n",
    "e_value1, e_vector1 = LA.eig(sigma1)\n",
    "fn1 = LA.norm(sigma1, 'fro')\n",
    "start = datetime.now()\n",
    "sigma2 = nearcorr(sigma)\n",
    "print(\"Run-time for Higham: \" + str(datetime.now()-start))\n",
    "e_value2, e_vector2 = LA.eig(sigma2)\n",
    "fn2 = LA.norm(sigma2, 'fro')\n",
    "root = chol_psd(root, sigma1, n)"
   ]
  },
  {
   "cell_type": "code",
   "execution_count": 7,
   "id": "ba2ad4c5",
   "metadata": {},
   "outputs": [
    {
     "data": {
      "text/plain": [
       "[[1.0, 0, 0, 0, 0],\n",
       " [0, 1.0, 0, 0, 0],\n",
       " [0, 0, 0.9999999999999999, 0, 0],\n",
       " [0, 0, 0, 1.0, 0],\n",
       " [0, 0, 0, 0, 0.9999999999999999]]"
      ]
     },
     "execution_count": 7,
     "metadata": {},
     "output_type": "execute_result"
    }
   ],
   "source": [
    "root"
   ]
  },
  {
   "cell_type": "code",
   "execution_count": 8,
   "id": "f48ef404",
   "metadata": {},
   "outputs": [
    {
     "data": {
      "text/plain": [
       "[[1.0, 0.7357, 0.9, 0.9, 0.9],\n",
       " [0.7357, 1.0, 0.9, 0.9, 0.9],\n",
       " [0.9, 0.9, 1.0, 0.9, 0.9],\n",
       " [0.9, 0.9, 0.9, 1.0, 0.9],\n",
       " [0.9, 0.9, 0.9, 0.9, 1.0]]"
      ]
     },
     "execution_count": 8,
     "metadata": {},
     "output_type": "execute_result"
    }
   ],
   "source": [
    "sigma"
   ]
  },
  {
   "cell_type": "code",
   "execution_count": 9,
   "id": "7218feca",
   "metadata": {},
   "outputs": [
    {
     "data": {
      "text/plain": [
       "array([[1.        , 0.73570072, 0.89168613, 0.89262486, 0.91632028],\n",
       "       [0.73570072, 1.        , 0.89168613, 0.89262486, 0.91632028],\n",
       "       [0.89168613, 0.89168613, 1.        , 0.84968711, 0.92459269],\n",
       "       [0.89262486, 0.89262486, 0.84968711, 1.        , 0.9277286 ],\n",
       "       [0.91632028, 0.91632028, 0.92459269, 0.9277286 , 1.        ]])"
      ]
     },
     "execution_count": 9,
     "metadata": {},
     "output_type": "execute_result"
    }
   ],
   "source": [
    "sigma1"
   ]
  },
  {
   "cell_type": "code",
   "execution_count": 10,
   "id": "922d6922",
   "metadata": {
    "scrolled": true
   },
   "outputs": [
    {
     "data": {
      "text/plain": [
       "array([ 4.53750025e+00,  2.64299281e-01, -2.25521530e-16,  4.78567233e-02,\n",
       "        1.50343751e-01])"
      ]
     },
     "execution_count": 10,
     "metadata": {},
     "output_type": "execute_result"
    }
   ],
   "source": [
    "e_value1"
   ]
  },
  {
   "cell_type": "code",
   "execution_count": 11,
   "id": "ed8dcbc9",
   "metadata": {},
   "outputs": [
    {
     "data": {
      "text/plain": [
       "4.547928769873161"
      ]
     },
     "execution_count": 11,
     "metadata": {},
     "output_type": "execute_result"
    }
   ],
   "source": [
    "fn1"
   ]
  },
  {
   "cell_type": "code",
   "execution_count": 12,
   "id": "04a4d342",
   "metadata": {},
   "outputs": [
    {
     "data": {
      "text/plain": [
       "array([[1.        , 0.73570358, 0.8999977 , 0.8999977 , 0.8999977 ],\n",
       "       [0.73570358, 1.        , 0.8999977 , 0.8999977 , 0.8999977 ],\n",
       "       [0.8999977 , 0.8999977 , 1.        , 0.90000148, 0.90000148],\n",
       "       [0.8999977 , 0.8999977 , 0.90000148, 1.        , 0.90000148],\n",
       "       [0.8999977 , 0.8999977 , 0.90000148, 0.90000148, 1.        ]])"
      ]
     },
     "execution_count": 12,
     "metadata": {},
     "output_type": "execute_result"
    }
   ],
   "source": [
    "sigma2"
   ]
  },
  {
   "cell_type": "code",
   "execution_count": 13,
   "id": "15f26578",
   "metadata": {},
   "outputs": [
    {
     "data": {
      "text/plain": [
       "array([ 4.53570654e+00,  2.64296421e-01, -6.38358099e-16,  9.99985211e-02,\n",
       "        9.99985211e-02])"
      ]
     },
     "execution_count": 13,
     "metadata": {},
     "output_type": "execute_result"
    }
   ],
   "source": [
    "e_value2"
   ]
  },
  {
   "cell_type": "code",
   "execution_count": 14,
   "id": "3ef61041",
   "metadata": {},
   "outputs": [
    {
     "data": {
      "text/plain": [
       "4.5456007074779246"
      ]
     },
     "execution_count": 14,
     "metadata": {},
     "output_type": "execute_result"
    }
   ],
   "source": [
    "fn2"
   ]
  },
  {
   "cell_type": "code",
   "execution_count": null,
   "id": "01c0d00a",
   "metadata": {},
   "outputs": [],
   "source": []
  }
 ],
 "metadata": {
  "kernelspec": {
   "display_name": "Python 3 (ipykernel)",
   "language": "python",
   "name": "python3"
  },
  "language_info": {
   "codemirror_mode": {
    "name": "ipython",
    "version": 3
   },
   "file_extension": ".py",
   "mimetype": "text/x-python",
   "name": "python",
   "nbconvert_exporter": "python",
   "pygments_lexer": "ipython3",
   "version": "3.9.7"
  }
 },
 "nbformat": 4,
 "nbformat_minor": 5
}
