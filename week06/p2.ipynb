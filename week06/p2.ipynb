{
 "cells": [
  {
   "cell_type": "code",
   "execution_count": 1,
   "id": "7e1d87e7",
   "metadata": {},
   "outputs": [],
   "source": [
    "import numpy as np\n",
    "from scipy.stats import norm\n",
    "import pandas as pd\n",
    "import random\n",
    "import matplotlib.pyplot as plt\n",
    "from scipy.optimize import fsolve"
   ]
  },
  {
   "cell_type": "code",
   "execution_count": 2,
   "id": "5b9c2a81",
   "metadata": {},
   "outputs": [],
   "source": [
    "apple = pd.read_csv(\"./AAPL_Options.csv\")\n",
    "s = 164.85\n",
    "current = pd.to_datetime(\"2022-02-25\")\n",
    "expire = pd.to_datetime(\"2022-03-18\")\n",
    "r = 0.0025\n",
    "coupon = 0.0053\n",
    "b = r - coupon\n",
    "days = (expire - current).days\n",
    "t = days / 365\n",
    "x = 0\n",
    "put = 0\n",
    "call = 0"
   ]
  },
  {
   "cell_type": "code",
   "execution_count": 3,
   "id": "0dd58306",
   "metadata": {},
   "outputs": [],
   "source": [
    "def funcall(sig):\n",
    "    return s*np.e**((b-r)*t)*norm.cdf((np.log(s/x) + t*(sig**2/2 + b))/(sig*(t**0.5))) - x*np.e**(-r*t)*norm.cdf((np.log(s/x) + t*(sig**2/2 + b))/(sig*(t**0.5)) - sig * (t**0.5)) - call"
   ]
  },
  {
   "cell_type": "code",
   "execution_count": 4,
   "id": "60147067",
   "metadata": {},
   "outputs": [],
   "source": [
    "def funcput(sig):\n",
    "    return x*np.e**(-r*t)*norm.cdf(-((np.log(s/x) + t*(sig**2/2 + b))/(sig*(t**0.5)) - sig * (t**0.5))) - s*np.e**((b-r)*t)*norm.cdf(-(np.log(s/x) + t*(sig**2/2 + b))/(sig*(t**0.5))) - put"
   ]
  },
  {
   "cell_type": "code",
   "execution_count": 5,
   "id": "c6c93c54",
   "metadata": {},
   "outputs": [],
   "source": [
    "callvals = []\n",
    "putvals = []\n",
    "strikescall = []\n",
    "strikesput = []"
   ]
  },
  {
   "cell_type": "code",
   "execution_count": 6,
   "id": "1a81443e",
   "metadata": {},
   "outputs": [
    {
     "name": "stdout",
     "output_type": "stream",
     "text": [
      "Implied volatility call: 0.49989766434694327\n",
      "Implied volatility call: 0.4528857682172305\n",
      "Implied volatility call: 0.41271998726752934\n",
      "Implied volatility call: 0.3697059692673745\n",
      "Implied volatility call: 0.3403938033193798\n",
      "Implied volatility call: 0.30431557962264316\n",
      "Implied volatility call: 0.273378086926953\n",
      "Implied volatility call: 0.2498887145319647\n",
      "Implied volatility call: 0.23593770502211314\n",
      "Implied volatility call: 0.23779933115184462\n",
      "Implied volatility call: 0.2525629328139015\n",
      "Implied volatility call: 0.27846861029774034\n",
      "Implied volatility call: 0.2808840081598242\n",
      "Implied volatility call: 0.3102706294910602\n",
      "Implied volatility put: 0.4895447177312108\n",
      "Implied volatility put: 0.44302698281838077\n",
      "Implied volatility put: 0.40242712409079495\n",
      "Implied volatility put: 0.3681003022337994\n",
      "Implied volatility put: 0.33226166818823494\n",
      "Implied volatility put: 0.29995537863934313\n",
      "Implied volatility put: 0.2701101044255506\n",
      "Implied volatility put: 0.2473298426474032\n",
      "Implied volatility put: 0.23156934334522725\n",
      "Implied volatility put: 0.2306684130330093\n",
      "Implied volatility put: 0.22306413204465936\n",
      "Implied volatility put: 0.1904251510500465\n",
      "Implied volatility put: 0.2274082557904701\n"
     ]
    }
   ],
   "source": [
    "for i in range(len(apple.index)):\n",
    "    line = np.array(apple.loc[i])\n",
    "    x = line[3]\n",
    "    if line[2] == \"Call\":\n",
    "        strikescall.append(x)\n",
    "        call = line[4]\n",
    "        root = fsolve(funcall, 0.8)[0]\n",
    "        callvals.append(root)\n",
    "        print(\"Implied volatility call: \" + str(root))\n",
    "    else:\n",
    "        strikesput.append(x)\n",
    "        put = line[4]\n",
    "        root = fsolve(funcput, 0.8)[0]\n",
    "        putvals.append(root)\n",
    "        print(\"Implied volatility put: \" + str(root))\n",
    "       "
   ]
  },
  {
   "cell_type": "code",
   "execution_count": 7,
   "id": "5dc87a00",
   "metadata": {},
   "outputs": [
    {
     "data": {
      "image/png": "[encoded data removed]",
      "text/plain": [
       "<Figure size 432x288 with 1 Axes>"
      ]
     },
     "metadata": {
      "needs_background": "light"
     },
     "output_type": "display_data"
    }
   ],
   "source": [
    "plt.plot(strikescall, callvals, label=\"Call\")\n",
    "plt.plot(strikesput, putvals, label=\"Put\")\n",
    "plt.xlabel('Strike')\n",
    "plt.ylabel('iVol')\n",
    "plt.legend()\n",
    "plt.show()"
   ]
  }
 ],
 "metadata": {
  "kernelspec": {
   "display_name": "Python 3 (ipykernel)",
   "language": "python",
   "name": "python3"
  },
  "language_info": {
   "codemirror_mode": {
    "name": "ipython",
    "version": 3
   },
   "file_extension": ".py",
   "mimetype": "text/x-python",
   "name": "python",
   "nbconvert_exporter": "python",
   "pygments_lexer": "ipython3",
   "version": "3.10.2"
  }
 },
 "nbformat": 4,
 "nbformat_minor": 5
}
