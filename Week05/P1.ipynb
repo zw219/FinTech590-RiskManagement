{
 "cells": [
  {
   "cell_type": "code",
   "execution_count": 1,
   "id": "d97d6034",
   "metadata": {},
   "outputs": [],
   "source": [
    "import pandas as pd\n",
    "from scipy.stats import norm\n",
    "import matplotlib.pyplot as plt\n",
    "from scipy.stats import t\n",
    "from scipy.optimize import minimize\n",
    "import numpy as np"
   ]
  },
  {
   "cell_type": "code",
   "execution_count": 2,
   "id": "358289f1",
   "metadata": {},
   "outputs": [],
   "source": [
    "p1 = pd.read_csv(\"problem1.csv\")\n",
    "mu_norm, std_norm = norm.fit(p1)\n",
    "alpha = 0.05"
   ]
  },
  {
   "cell_type": "code",
   "execution_count": 3,
   "id": "d6febc2d",
   "metadata": {},
   "outputs": [],
   "source": [
    "VaR_norm = norm.ppf(0.95, mu_norm, std_norm)"
   ]
  },
  {
   "cell_type": "code",
   "execution_count": 4,
   "id": "3ecbd88d",
   "metadata": {},
   "outputs": [],
   "source": [
    "CVaR_n = alpha**-1 * norm.pdf(norm.ppf(alpha))*std_norm - mu_norm\n",
    "xanu = t.ppf(alpha, (len(p1.index) - 1))\n",
    "CVaR_t = -1/alpha * (1-(len(p1.index) - 1))**(-1) * ((len(p1.index) - 1)-2+xanu**2) * t.pdf(xanu, (len(p1.index) - 1))*std_norm - mu_norm"
   ]
  },
  {
   "cell_type": "code",
   "execution_count": 5,
   "id": "b4560c62",
   "metadata": {},
   "outputs": [],
   "source": [
    "def mleTVaR(alpha, ret):\n",
    "    def negLogLikeForT(initialParams):\n",
    "        df, sigma = initialParams\n",
    "        return -t(df=df, scale=sigma).logpdf(ret).sum()\n",
    "    initialParams = np.array([1, 1])\n",
    "    df, sigma = minimize(negLogLikeForT, initialParams, method=\"BFGS\").x\n",
    "    return -t.ppf(alpha, df, loc=ret.mean(), scale=sigma)\n",
    " "
   ]
  },
  {
   "cell_type": "code",
   "execution_count": 6,
   "id": "d5f9a700",
   "metadata": {},
   "outputs": [
    {
     "data": {
      "text/plain": [
       "array([0.07726245])"
      ]
     },
     "execution_count": 6,
     "metadata": {},
     "output_type": "execute_result"
    }
   ],
   "source": [
    "mleTVaR(alpha, p1)"
   ]
  },
  {
   "cell_type": "code",
   "execution_count": 7,
   "id": "290a15fe",
   "metadata": {},
   "outputs": [
    {
     "data": {
      "text/plain": [
       "0.07949517273090559"
      ]
     },
     "execution_count": 7,
     "metadata": {},
     "output_type": "execute_result"
    }
   ],
   "source": [
    "VaR_norm"
   ]
  },
  {
   "cell_type": "code",
   "execution_count": 8,
   "id": "b46ebdb3",
   "metadata": {},
   "outputs": [
    {
     "data": {
      "text/plain": [
       "0.10167332489098001"
      ]
     },
     "execution_count": 8,
     "metadata": {},
     "output_type": "execute_result"
    }
   ],
   "source": [
    "CVaR_n"
   ]
  },
  {
   "cell_type": "code",
   "execution_count": 9,
   "id": "59bb6973",
   "metadata": {},
   "outputs": [
    {
     "data": {
      "text/plain": [
       "0.10155937815526443"
      ]
     },
     "execution_count": 9,
     "metadata": {},
     "output_type": "execute_result"
    }
   ],
   "source": [
    "CVaR_t"
   ]
  }
 ],
 "metadata": {
  "kernelspec": {
   "display_name": "Python 3 (ipykernel)",
   "language": "python",
   "name": "python3"
  },
  "language_info": {
   "codemirror_mode": {
    "name": "ipython",
    "version": 3
   },
   "file_extension": ".py",
   "mimetype": "text/x-python",
   "name": "python",
   "nbconvert_exporter": "python",
   "pygments_lexer": "ipython3",
   "version": "3.10.2"
  }
 },
 "nbformat": 4,
 "nbformat_minor": 5
}
